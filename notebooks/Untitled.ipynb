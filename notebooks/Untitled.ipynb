{
 "cells": [
  {
   "cell_type": "code",
   "execution_count": 1,
   "id": "7fc8366d-9051-4e4f-9fc7-ccfa42612285",
   "metadata": {},
   "outputs": [],
   "source": [
    "%load_ext autoreload\n",
    "%autoreload 2"
   ]
  },
  {
   "cell_type": "code",
   "execution_count": 4,
   "id": "e7295720-c921-4486-9ed5-f42939c8491a",
   "metadata": {},
   "outputs": [],
   "source": [
    "from quickdraw import QuickDrawDataGroup, QuickDrawData\n",
    "import pandas as pd\n",
    "import numpy as np\n",
    "from tensorflow.keras.utils import image_dataset_from_directory\n",
    "import cv2\n",
    "import os\n",
    "from pathlib import Path\n",
    "from tensorflow.image import grayscale_to_rgb"
   ]
  },
  {
   "cell_type": "code",
   "execution_count": 16,
   "id": "1630a90b-1260-49ea-a483-9c349864864e",
   "metadata": {},
   "outputs": [
    {
     "data": {
      "text/plain": [
       "('/home/psousa01/code/psousa01/doodle-project/notebooks/../raw_data',\n",
       " '/home/psousa01/code/psousa01/doodle-project/notebooks/../reduced_data')"
      ]
     },
     "execution_count": 16,
     "metadata": {},
     "output_type": "execute_result"
    }
   ],
   "source": [
    "raw_data_path = os.path.join(os.getcwd(), '..', 'raw_data')\n",
    "reduced_data_path = os.path.join(os.getcwd(), '..', 'reduced_data')\n",
    "raw_data_path, reduced_data_path"
   ]
  },
  {
   "cell_type": "code",
   "execution_count": 17,
   "id": "c5a46a9c-7cb0-4910-9eb7-e37773bcea8d",
   "metadata": {},
   "outputs": [],
   "source": [
    "# image_size = (64,64)\n",
    "\n",
    "# def generate_class_images(name, max_drawings, recognized):\n",
    "#     directory = Path(os.path.join(raw_data_path, name))\n",
    "\n",
    "#     if not directory.exists():\n",
    "#         directory.mkdir(parents=True) # Creates label directory if it doesn't exist\n",
    "\n",
    "#     images = QuickDrawDataGroup(name, max_drawings=max_drawings, recognized=recognized)\n",
    "    \n",
    "#     for img in images.drawings:\n",
    "#         \"\"\"Save all the images in the label group in a subdirectory as png\"\"\"\n",
    "#         filename = directory.as_posix() + \"/\" + str(img.key_id) + \".png\"\n",
    "#         img.get_image(stroke_width=3).resize(image_size).save(filename)\n",
    "\n",
    "# for label in QuickDrawData().drawing_names:\n",
    "#     \"\"\"Get 1200 recognized images per label\"\"\"\n",
    "#     generate_class_images(label, max_drawings=1200, recognized=True)"
   ]
  },
  {
   "cell_type": "markdown",
   "id": "12d9e2e3-6155-4502-8121-2d8dd140dda8",
   "metadata": {},
   "source": [
    "# Creating the train and validation datasets"
   ]
  },
  {
   "cell_type": "code",
   "execution_count": 13,
   "id": "b72a5b44-9e66-4773-b2a4-4d1bdc44eb97",
   "metadata": {},
   "outputs": [],
   "source": [
    "import os\n",
    "import glob\n",
    "import tensorflow as tf\n",
    "import matplotlib.pyplot as plt"
   ]
  },
  {
   "cell_type": "code",
   "execution_count": 25,
   "id": "90711dfb-5b7f-4129-bbc2-c27d31090f8a",
   "metadata": {},
   "outputs": [
    {
     "name": "stdout",
     "output_type": "stream",
     "text": [
      "Found 6000 files belonging to 5 classes.\n",
      "Using 4800 files for training.\n",
      "Found 6000 files belonging to 5 classes.\n",
      "Using 1200 files for validation.\n"
     ]
    }
   ],
   "source": [
    "# Reduced dataset with 5 clasees\n",
    "\n",
    "batch_size = 32\n",
    "image_size = (64,64)\n",
    "\n",
    "train_ds = image_dataset_from_directory(\n",
    "    reduced_data_path,\n",
    "    validation_split=0.2,\n",
    "    label_mode='categorical',\n",
    "    labels = 'inferred',\n",
    "    subset=\"training\",\n",
    "    seed=123,\n",
    "    color_mode=\"rgb\",\n",
    "    image_size=image_size,\n",
    "    batch_size=batch_size\n",
    ")\n",
    "\n",
    "val_ds = image_dataset_from_directory(\n",
    "    reduced_data_path,\n",
    "    validation_split=0.2,\n",
    "    label_mode='categorical',\n",
    "    labels='inferred',\n",
    "    subset=\"validation\",\n",
    "    seed=123,\n",
    "    color_mode=\"rgb\",\n",
    "    image_size=image_size,\n",
    "    batch_size=batch_size\n",
    ")\n"
   ]
  },
  {
   "cell_type": "code",
   "execution_count": 26,
   "id": "57e7e5bc-d5b2-4820-85e7-4ffead12fb82",
   "metadata": {},
   "outputs": [],
   "source": [
    "## Full dataset with 345 clasees\n",
    "\n",
    "# batch_size = 32\n",
    "# image_size = (64,64)\n",
    "\n",
    "# train_ds = image_dataset_from_directory(\n",
    "#     raw_data_path,\n",
    "#     validation_split=0.2,\n",
    "#     labels = 'inferred',\n",
    "#     subset=\"training\",\n",
    "#     seed=123,\n",
    "#     color_mode=\"rgb\",\n",
    "#     image_size=image_size,\n",
    "#     batch_size=batch_size\n",
    "# )\n",
    "\n",
    "# val_ds = image_dataset_from_directory(\n",
    "#     raw_data_path,\n",
    "#     validation_split=0.2,\n",
    "#     labels='inferred',\n",
    "#     subset=\"validation\",\n",
    "#     seed=123,\n",
    "#     color_mode=\"rgb\",\n",
    "#     image_size=image_size,\n",
    "#     batch_size=batch_size\n",
    "# )\n"
   ]
  },
  {
   "cell_type": "code",
   "execution_count": 39,
   "id": "1097e425-ead1-4e04-865d-9747288326ea",
   "metadata": {},
   "outputs": [
    {
     "name": "stdout",
     "output_type": "stream",
     "text": [
      "(64, 64, 3)\n"
     ]
    },
    {
     "data": {
      "image/png": "[encoded data removed]",
      "text/plain": [
       "<Figure size 640x480 with 1 Axes>"
      ]
     },
     "metadata": {},
     "output_type": "display_data"
    }
   ],
   "source": [
    "import matplotlib.pyplot as plt\n",
    "\n",
    "for i, l in train_ds.take(1):\n",
    "    print(i[0].shape)\n",
    "    plt.imshow(i[0].numpy().astype('uint8'))\n",
    "    plt.title(train_ds.class_names[0])\n"
   ]
  },
  {
   "cell_type": "markdown",
   "id": "ba0848e2-2a7a-4b04-84eb-d3e5886215eb",
   "metadata": {},
   "source": [
    "# Importing VGG16 with non trainable weights"
   ]
  },
  {
   "cell_type": "code",
   "execution_count": 40,
   "id": "28cb6da8-4f4f-4fa2-bdd7-20263440c878",
   "metadata": {},
   "outputs": [],
   "source": [
    "from tensorflow.keras.applications.vgg16 import VGG16, preprocess_input\n",
    "from tensorflow.keras.models import Model\n",
    "from tensorflow.keras import layers, optimizers"
   ]
  },
  {
   "cell_type": "code",
   "execution_count": 41,
   "id": "e0fe5312-2783-44d3-9069-9b3db5ff6293",
   "metadata": {},
   "outputs": [],
   "source": [
    "# Initialize the VGG16 model\n",
    "\n",
    "base_model = VGG16(\n",
    "    include_top=False,\n",
    "    weights='imagenet',\n",
    "    input_shape=(64,64,3)\n",
    ")"
   ]
  },
  {
   "cell_type": "code",
   "execution_count": 44,
   "id": "26bfb8ae-46f2-4c6b-9bd1-7c1a513fd215",
   "metadata": {},
   "outputs": [],
   "source": [
    "inputs = layers.Input(shape = (64,64,3))\n",
    "\n",
    "x = preprocess_input(inputs)\n",
    "x = base_model(x)\n",
    "\n",
    "x = layers.Flatten()(x)\n",
    "\n",
    "x = layers.Dense(500, activation = 'relu')(x)\n",
    "x = layers.Dropout(0.3)(x)\n",
    "x = layers.Dense(400, activation = 'relu')(x)\n",
    "x = layers.Dropout(0.3)(x)\n",
    "pred = layers.Dense(5, activation = 'softmax')(x) # 5 IS FOR REDUCED DATASET, CHANGE TO 345 WHEN USING FULL\n",
    "\n",
    "\n",
    "model = Model(inputs = inputs, outputs = pred)\n",
    "\n",
    "base_model.trainable = False"
   ]
  },
  {
   "cell_type": "code",
   "execution_count": 45,
   "id": "ad9a0d3d-89ec-46a1-93c7-0b21ed8069c9",
   "metadata": {},
   "outputs": [
    {
     "name": "stdout",
     "output_type": "stream",
     "text": [
      "Model: \"model_3\"\n",
      "_________________________________________________________________\n",
      " Layer (type)                Output Shape              Param #   \n",
      "=================================================================\n",
      " input_6 (InputLayer)        [(None, 64, 64, 3)]       0         \n",
      "                                                                 \n",
      " tf.__operators__.getitem_3   (None, 64, 64, 3)        0         \n",
      " (SlicingOpLambda)                                               \n",
      "                                                                 \n",
      " tf.nn.bias_add_3 (TFOpLambd  (None, 64, 64, 3)        0         \n",
      " a)                                                              \n",
      "                                                                 \n",
      " vgg16 (Functional)          (None, 2, 2, 512)         14714688  \n",
      "                                                                 \n",
      " flatten_3 (Flatten)         (None, 2048)              0         \n",
      "                                                                 \n",
      " dense_9 (Dense)             (None, 500)               1024500   \n",
      "                                                                 \n",
      " dropout_6 (Dropout)         (None, 500)               0         \n",
      "                                                                 \n",
      " dense_10 (Dense)            (None, 400)               200400    \n",
      "                                                                 \n",
      " dropout_7 (Dropout)         (None, 400)               0         \n",
      "                                                                 \n",
      " dense_11 (Dense)            (None, 5)                 2005      \n",
      "                                                                 \n",
      "=================================================================\n",
      "Total params: 15,941,593\n",
      "Trainable params: 1,226,905\n",
      "Non-trainable params: 14,714,688\n",
      "_________________________________________________________________\n"
     ]
    }
   ],
   "source": [
    "model.summary()"
   ]
  },
  {
   "cell_type": "code",
   "execution_count": 48,
   "id": "732336af-8887-4f7c-b0e4-095b6a70194e",
   "metadata": {},
   "outputs": [],
   "source": [
    "adam = optimizers.Adam(learning_rate=0.001)\n",
    "\n",
    "model.compile(\n",
    "    optimizer = adam,\n",
    "    loss = 'categorical_crossentropy',\n",
    "    metrics = ['accuracy']\n",
    ")"
   ]
  },
  {
   "cell_type": "markdown",
   "id": "3ba178db-8cf4-4310-a78f-5b1c4649cb71",
   "metadata": {},
   "source": [
    "# Training our model with VGG16 weights"
   ]
  },
  {
   "cell_type": "code",
   "execution_count": 49,
   "id": "671a2bc0-3e5e-495a-88e7-8bbda86c4abe",
   "metadata": {},
   "outputs": [
    {
     "name": "stdout",
     "output_type": "stream",
     "text": [
      "Epoch 1/15\n",
      "150/150 [==============================] - 3s 18ms/step - loss: 1.2646 - accuracy: 0.7971 - val_loss: 0.3625 - val_accuracy: 0.8792\n",
      "Epoch 2/15\n",
      "150/150 [==============================] - 2s 14ms/step - loss: 0.3961 - accuracy: 0.8796 - val_loss: 0.2787 - val_accuracy: 0.8933\n",
      "Epoch 3/15\n",
      "150/150 [==============================] - 2s 14ms/step - loss: 0.2713 - accuracy: 0.9115 - val_loss: 0.2387 - val_accuracy: 0.9175\n",
      "Epoch 4/15\n",
      "150/150 [==============================] - 2s 14ms/step - loss: 0.2272 - accuracy: 0.9252 - val_loss: 0.2639 - val_accuracy: 0.9108\n",
      "Epoch 5/15\n",
      "150/150 [==============================] - 2s 14ms/step - loss: 0.2095 - accuracy: 0.9315 - val_loss: 0.2440 - val_accuracy: 0.9133\n",
      "Epoch 6/15\n",
      "150/150 [==============================] - 2s 14ms/step - loss: 0.1688 - accuracy: 0.9377 - val_loss: 0.2629 - val_accuracy: 0.9083\n",
      "Epoch 7/15\n",
      "150/150 [==============================] - 2s 14ms/step - loss: 0.1558 - accuracy: 0.9469 - val_loss: 0.2852 - val_accuracy: 0.9158\n",
      "Epoch 8/15\n",
      "150/150 [==============================] - 2s 14ms/step - loss: 0.1221 - accuracy: 0.9548 - val_loss: 0.2731 - val_accuracy: 0.9150\n",
      "Epoch 9/15\n",
      "150/150 [==============================] - 2s 14ms/step - loss: 0.1099 - accuracy: 0.9617 - val_loss: 0.2644 - val_accuracy: 0.9083\n",
      "Epoch 10/15\n",
      "150/150 [==============================] - 2s 14ms/step - loss: 0.1117 - accuracy: 0.9606 - val_loss: 0.2777 - val_accuracy: 0.9142\n",
      "Epoch 11/15\n",
      "150/150 [==============================] - 2s 14ms/step - loss: 0.1177 - accuracy: 0.9590 - val_loss: 0.2791 - val_accuracy: 0.9175\n",
      "Epoch 12/15\n",
      "150/150 [==============================] - 2s 14ms/step - loss: 0.1130 - accuracy: 0.9606 - val_loss: 0.2659 - val_accuracy: 0.9225\n",
      "Epoch 13/15\n",
      "150/150 [==============================] - 2s 14ms/step - loss: 0.1054 - accuracy: 0.9625 - val_loss: 0.2887 - val_accuracy: 0.9217\n",
      "Epoch 14/15\n",
      "150/150 [==============================] - 2s 14ms/step - loss: 0.0964 - accuracy: 0.9635 - val_loss: 0.2932 - val_accuracy: 0.9142\n",
      "Epoch 15/15\n",
      "150/150 [==============================] - 2s 14ms/step - loss: 0.0988 - accuracy: 0.9671 - val_loss: 0.3143 - val_accuracy: 0.9142\n"
     ]
    }
   ],
   "source": [
    "history = model.fit(\n",
    "    train_ds,\n",
    "    validation_data=val_ds,\n",
    "    epochs = 15,\n",
    ")"
   ]
  },
  {
   "cell_type": "code",
   "execution_count": null,
   "id": "daad28c7-fd1c-4d05-9229-3a9c83eaefa0",
   "metadata": {},
   "outputs": [],
   "source": []
  }
 ],
 "metadata": {
  "kernelspec": {
   "display_name": "Python 3 (ipykernel)",
   "language": "python",
   "name": "python3"
  },
  "language_info": {
   "codemirror_mode": {
    "name": "ipython",
    "version": 3
   },
   "file_extension": ".py",
   "mimetype": "text/x-python",
   "name": "python",
   "nbconvert_exporter": "python",
   "pygments_lexer": "ipython3",
   "version": "3.10.6"
  }
 },
 "nbformat": 4,
 "nbformat_minor": 5
}
