{
 "cells": [
  {
   "cell_type": "code",
   "execution_count": 2,
   "id": "114eb81e-f24d-4d67-b660-cb802158b3f2",
   "metadata": {},
   "outputs": [],
   "source": [
    "import numpy as np\n",
    "import pandas as pd\n",
    "import matplotlib.pyplot as plt\n",
    "from tensorflow.keras.utils import image_dataset_from_directory\n",
    "from tensorflow.keras import models\n",
    "import os"
   ]
  },
  {
   "cell_type": "code",
   "execution_count": 4,
   "id": "7ad92904-4278-4da7-8fd3-f822755305b2",
   "metadata": {},
   "outputs": [],
   "source": [
    "model = models.load_model(os.path.join(os.getcwd(), '..', 'model', '20231206-154428.keras'))"
   ]
  },
  {
   "cell_type": "code",
   "execution_count": 5,
   "id": "7f1c3cca-67ee-48d2-9f2c-c153a36ac03b",
   "metadata": {},
   "outputs": [
    {
     "data": {
      "text/plain": [
       "<KerasTensor: shape=(None, 20) dtype=float32 (created by layer 'dense_3')>"
      ]
     },
     "execution_count": 5,
     "metadata": {},
     "output_type": "execute_result"
    }
   ],
   "source": [
    "df = pd.read_csv(os.path.join(os.getcwd(), '..', 'logs', '20231206-154428.log'))"
   ]
  },
  {
   "cell_type": "code",
   "execution_count": null,
   "id": "8d10ae89-99ee-4fa8-902e-79e349f5ccbd",
   "metadata": {},
   "outputs": [],
   "source": []
  }
 ],
 "metadata": {
  "kernelspec": {
   "display_name": "Python 3 (ipykernel)",
   "language": "python",
   "name": "python3"
  },
  "language_info": {
   "codemirror_mode": {
    "name": "ipython",
    "version": 3
   },
   "file_extension": ".py",
   "mimetype": "text/x-python",
   "name": "python",
   "nbconvert_exporter": "python",
   "pygments_lexer": "ipython3",
   "version": "3.10.6"
  }
 },
 "nbformat": 4,
 "nbformat_minor": 5
}
